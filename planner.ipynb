{
 "cells": [
  {
   "cell_type": "code",
   "execution_count": null,
   "metadata": {},
   "outputs": [],
   "source": [
    "%pip install -U -q pandas pandasql openai Markdown2docx"
   ]
  },
  {
   "cell_type": "code",
   "execution_count": 40,
   "metadata": {},
   "outputs": [],
   "source": [
    "import pandas as pd\n",
    "\n",
    "with open(\"./output/data.xlsx\", \"rb\") as f:\n",
    "    df = pd.read_excel(f, sheet_name=\"tiger\")"
   ]
  },
  {
   "cell_type": "code",
   "execution_count": 51,
   "metadata": {},
   "outputs": [],
   "source": [
    "import json\n",
    "import pandasql as ps\n",
    "\n",
    "result_df = ps.sqldf(\"SELECT * FROM df WHERE adventure_name = 'Bobcat'\", locals())\n",
    "\n",
    "json_result = result_df.to_dict(orient=\"records\")\n",
    "activities = json.dumps(json_result)\n",
    "activities = activities.encode().decode(\"unicode-escape\")\n",
    "\n",
    "# replace unicode characters...\n",
    "activities = activities.replace(\"’\", \"'\")\n",
    "activities = activities.replace(\"“\", '\"')\n",
    "activities = activities.replace(\"”\", '\"')"
   ]
  },
  {
   "cell_type": "code",
   "execution_count": 52,
   "metadata": {},
   "outputs": [],
   "source": [
    "import os\n",
    "from openai import OpenAI\n",
    "from dotenv import load_dotenv\n",
    "\n",
    "load_dotenv()\n",
    "\n",
    "client = OpenAI(\n",
    "    api_key=os.environ[\"OPENAI_KEY\"],\n",
    ")\n",
    "\n",
    "chat_completion = client.chat.completions.create(\n",
    "    model=\"gpt-4o-mini\",\n",
    "    messages=[\n",
    "        {\n",
    "            \"role\": \"system\",\n",
    "            \"content\": \"\"\"You are a Cub Scouts den meeting planning expert. Using the activities data below, please plan a den meeting for the Tigers (1st graders).\n",
    "It includes data on Energy Level (`activity_attr_energy`), how many supplies are required (`activity_attr_supplies`) and how long it takes (`activity_attr_time`). All three values range from 1 to 5, with 1 being lowest and 5 being highest.\n",
    "Make sure to choose exactly 1 activity for each `requirement_name`. Try to choose higher energy levels with lower supplies and time requirements.\n",
    "Include the following sections:\n",
    "- Adventure name\n",
    "- Adventure description\n",
    "- Full list of supplies required for the meeting\n",
    "- If there any at-home requirements for the meeting, note them\n",
    "- Opening ceremony, including\n",
    "    - Pledge of allegiance\n",
    "    - Scout oath and law\n",
    "- One section per requirement, including the chosen activity name, supplies and directions\n",
    "            \n",
    "Activities:\n",
    "\"\"\",\n",
    "        },\n",
    "        {\n",
    "            \"role\": \"user\",\n",
    "            \"content\": activities,\n",
    "        },\n",
    "    ],\n",
    ")"
   ]
  },
  {
   "cell_type": "code",
   "execution_count": 58,
   "metadata": {},
   "outputs": [],
   "source": [
    "from Markdown2docx import Markdown2docx\n",
    "\n",
    "plan = chat_completion.choices[0].message.content\n",
    "\n",
    "with open(\"./output/plan.md\", \"w\") as file:\n",
    "    file.write(plan)\n",
    "\n",
    "project = Markdown2docx(\"./output/plan\")\n",
    "project.eat_soup()\n",
    "project.save()"
   ]
  }
 ],
 "metadata": {
  "kernelspec": {
   "display_name": "Python 3",
   "language": "python",
   "name": "python3"
  },
  "language_info": {
   "codemirror_mode": {
    "name": "ipython",
    "version": 3
   },
   "file_extension": ".py",
   "mimetype": "text/x-python",
   "name": "python",
   "nbconvert_exporter": "python",
   "pygments_lexer": "ipython3",
   "version": "3.12.4"
  }
 },
 "nbformat": 4,
 "nbformat_minor": 2
}
